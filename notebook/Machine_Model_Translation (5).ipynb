{
  "nbformat": 4,
  "nbformat_minor": 0,
  "metadata": {
    "colab": {
      "provenance": [],
      "gpuType": "T4"
    },
    "kernelspec": {
      "name": "python3",
      "display_name": "Python 3"
    },
    "language_info": {
      "name": "python"
    },
    "accelerator": "GPU"
  },
  "cells": [
    {
      "cell_type": "markdown",
      "source": [
        "# **import** **libraries**"
      ],
      "metadata": {
        "id": "LKvxJgW39SKo"
      }
    },
    {
      "cell_type": "code",
      "execution_count": 2,
      "metadata": {
        "id": "Uv8nrOk18jv2"
      },
      "outputs": [],
      "source": [
        "import string\n",
        "import re\n",
        "import numpy as np\n",
        "import pandas as pd\n",
        "from pickle import dump\n",
        "from unicodedata import normalize\n",
        "from pickle import load\n",
        "from numpy import array"
      ]
    },
    {
      "cell_type": "markdown",
      "source": [
        "# load file"
      ],
      "metadata": {
        "id": "ZpDoOdoGr8O0"
      }
    },
    {
      "cell_type": "code",
      "source": [
        "def load_doc(filename):\n",
        "  file=open(filename, mode='rt', encoding='utf-8')\n",
        "  text=file.read()\n",
        "  file.close()\n",
        "  return text"
      ],
      "metadata": {
        "id": "JlauFWsg9jjr"
      },
      "execution_count": 3,
      "outputs": []
    },
    {
      "cell_type": "markdown",
      "source": [
        "# Data Preprocessing"
      ],
      "metadata": {
        "id": "qPg0z0uE-xof"
      }
    },
    {
      "cell_type": "code",
      "source": [
        "def to_pairs(doc):\n",
        "  lines=doc.strip().split('\\n')\n",
        "  pairs=[line.split('\\t') for line in lines]\n",
        "  return pairs\n",
        "\n",
        "\n",
        "def clean_pairs(lines):\n",
        "  cleaned = list()\n",
        "  re_print = re.compile('[^%s]' % re.escape(string.printable))\n",
        "  table = str.maketrans('', '', string.punctuation)\n",
        "  for pair in lines:\n",
        "    clean_pair = list()\n",
        "    for line in pair:\n",
        "      line = normalize('NFD', line).encode('ascii', 'ignore')\n",
        "      line = line.decode('UTF-8')\n",
        "      line = line.split()\n",
        "      line=[word.lower() for word in line]\n",
        "      line = [word.translate(table) for word in line]\n",
        "      line = [re_print.sub('', w) for w in line]\n",
        "      line = [word for word in line if word.isalpha()]\n",
        "      clean_pair.append(' '.join(line))\n",
        "    cleaned.append(clean_pair)\n",
        "  return array(cleaned)\n",
        "\n",
        "def save_clean_data(sentences, filename):\n",
        "  dump(sentences, open(filename, 'wb'))\n",
        "  print('Saved: %s' % filename)"
      ],
      "metadata": {
        "id": "WjoXDLYO9zFe"
      },
      "execution_count": 4,
      "outputs": []
    },
    {
      "cell_type": "markdown",
      "source": [
        "# loading the German–English dataset"
      ],
      "metadata": {
        "id": "z9wwqdNvtyta"
      }
    },
    {
      "cell_type": "code",
      "source": [
        "filename='/content/deu.txt'\n",
        "doc=load_doc(filename)\n",
        "pairs=to_pairs(doc)\n",
        "clean_pairs=clean_pairs(pairs)\n",
        "save_clean_data(clean_pairs, 'english-german.pkl')\n",
        "\n",
        "for i in range(100):\n",
        "  print('[%s] => [%s]' % (clean_pairs[i,0], clean_pairs[i,1]))\n"
      ],
      "metadata": {
        "colab": {
          "base_uri": "https://localhost:8080/"
        },
        "id": "4eONoQD7-uC1",
        "outputId": "b98388e8-e139-4ef1-a5d6-9c487d9fa328"
      },
      "execution_count": 6,
      "outputs": [
        {
          "output_type": "stream",
          "name": "stdout",
          "text": [
            "Saved: english-german.pkl\n",
            "[go] => [geh]\n",
            "[hi] => [hallo]\n",
            "[hi] => [gru gott]\n",
            "[run] => [lauf]\n",
            "[run] => [lauf]\n",
            "[wow] => [potzdonner]\n",
            "[wow] => [donnerwetter]\n",
            "[duck] => [kopf runter]\n",
            "[fire] => [feuer]\n",
            "[help] => [hilfe]\n",
            "[help] => [zu hulf]\n",
            "[hide] => [versteck dich]\n",
            "[hide] => [versteckt euch]\n",
            "[stay] => [bleib]\n",
            "[stop] => [stopp]\n",
            "[stop] => [anhalten]\n",
            "[wait] => [warte]\n",
            "[wait] => [warte]\n",
            "[begin] => [fang an]\n",
            "[do it] => [mache es]\n",
            "[do it] => [tue es]\n",
            "[go on] => [mach weiter]\n",
            "[hello] => [hallo]\n",
            "[hello] => [sers]\n",
            "[hello] => [hallo]\n",
            "[hurry] => [beeil dich]\n",
            "[hurry] => [schnell]\n",
            "[i hid] => [ich versteckte mich]\n",
            "[i hid] => [ich habe mich versteckt]\n",
            "[i ran] => [ich rannte]\n",
            "[i see] => [ich verstehe]\n",
            "[i see] => [aha]\n",
            "[i try] => [ich versuche es]\n",
            "[i try] => [ich probiere es]\n",
            "[i won] => [ich hab gewonnen]\n",
            "[i won] => [ich habe gewonnen]\n",
            "[i won] => [ich habe gewonnen]\n",
            "[oh no] => [oh nein]\n",
            "[relax] => [entspann dich]\n",
            "[shoot] => [feuer]\n",
            "[shoot] => [schie]\n",
            "[smile] => [lacheln]\n",
            "[sorry] => [entschuldigung]\n",
            "[ask me] => [frag mich]\n",
            "[ask me] => [fragt mich]\n",
            "[ask me] => [fragen sie mich]\n",
            "[attack] => [angriff]\n",
            "[attack] => [attacke]\n",
            "[buy it] => [kaufs]\n",
            "[cheers] => [zum wohl]\n",
            "[eat it] => [iss es]\n",
            "[eat up] => [iss fertig]\n",
            "[eat up] => [iss auf]\n",
            "[eat up] => [iss auf]\n",
            "[exhale] => [ausatmen]\n",
            "[freeze] => [keine bewegung]\n",
            "[freeze] => [stehenbleiben]\n",
            "[go now] => [geh jetzt]\n",
            "[got it] => [verstanden]\n",
            "[got it] => [ich habs]\n",
            "[got it] => [aha]\n",
            "[got it] => [kapiert]\n",
            "[got it] => [verstanden]\n",
            "[got it] => [einverstanden]\n",
            "[he ran] => [er rannte]\n",
            "[he ran] => [er lief]\n",
            "[hop in] => [mach mit]\n",
            "[hop in] => [spring rein]\n",
            "[hug me] => [druck mich]\n",
            "[hug me] => [nimm mich in den arm]\n",
            "[hug me] => [umarme mich]\n",
            "[i care] => [mir ist es wichtig]\n",
            "[i fell] => [ich fiel]\n",
            "[i fell] => [ich fiel hin]\n",
            "[i fell] => [ich sturzte]\n",
            "[i fell] => [ich bin hingefallen]\n",
            "[i fell] => [ich bin gesturzt]\n",
            "[i fled] => [ich fluchtete]\n",
            "[i fled] => [ich bin gefluchtet]\n",
            "[i know] => [ich wei]\n",
            "[i lied] => [ich habe gelogen]\n",
            "[i lost] => [ich habe verloren]\n",
            "[i paid] => [ich habe bezahlt]\n",
            "[i paid] => [ich zahlte]\n",
            "[i pass] => [ich passe]\n",
            "[i quit] => [ich kundige]\n",
            "[i sang] => [ich sang]\n",
            "[i spit] => [ich spuckte]\n",
            "[i spit] => [ich habe gespuckt]\n",
            "[i swim] => [ich schwimme]\n",
            "[i wept] => [ich weinte]\n",
            "[i wept] => [ich habe geweint]\n",
            "[im] => [ich bin jahre alt]\n",
            "[im] => [ich bin]\n",
            "[im ok] => [mir gehts gut]\n",
            "[im ok] => [es geht mir gut]\n",
            "[im up] => [ich bin wach]\n",
            "[im up] => [ich bin auf]\n",
            "[inhale] => [einatmen]\n",
            "[listen] => [hort zu]\n"
          ]
        }
      ]
    },
    {
      "cell_type": "markdown",
      "source": [
        "# Prepare Dataset"
      ],
      "metadata": {
        "id": "jb3ROwsWuBXU"
      }
    },
    {
      "cell_type": "code",
      "source": [
        "from pickle import load\n",
        "from pickle import dump\n",
        "from numpy.random import rand\n",
        "from numpy.random import shuffle\n",
        "\n",
        "def load_clean_sentences(filename):\n",
        "  return load(open(filename, 'rb'))\n",
        "\n",
        "def save_clean_data(sentences, filename):\n",
        "  dump(sentences, open(filename, 'wb'))\n",
        "  print('Saved: %s' % filename)\n",
        "\n",
        "raw_dataset=load_clean_sentences('/content/english-german.pkl')\n",
        "n_sentences=15000\n",
        "dataset=raw_dataset[:n_sentences,:]\n",
        "shuffle(dataset)\n",
        "\n",
        "train,test=dataset[:12000],dataset[12000:]\n",
        "\n",
        "\n",
        "save_clean_data(dataset, '/content/english-german-both.pkl')\n",
        "save_clean_data(train, '/content/english-german-train.pkl')\n",
        "save_clean_data(test, '/content/english-german-test.pkl')"
      ],
      "metadata": {
        "colab": {
          "base_uri": "https://localhost:8080/"
        },
        "id": "QRLbS6KbAA1y",
        "outputId": "a269234e-9803-4ad5-8c5d-1f8c86a34d10"
      },
      "execution_count": 7,
      "outputs": [
        {
          "output_type": "stream",
          "name": "stdout",
          "text": [
            "Saved: /content/english-german-both.pkl\n",
            "Saved: /content/english-german-train.pkl\n",
            "Saved: /content/english-german-test.pkl\n"
          ]
        }
      ]
    },
    {
      "cell_type": "code",
      "metadata": {
        "colab": {
          "base_uri": "https://localhost:8080/",
          "height": 652
        },
        "id": "57dd9db5",
        "outputId": "d0afa273-1b13-4900-968f-3925006852bf"
      },
      "source": [
        "# Load the saved data\n",
        "loaded_data = load_clean_sentences('/content/english-german-both.pkl')\n",
        "\n",
        "# Display a sample of the loaded data\n",
        "print(\"Sample of the combined dataset:\")\n",
        "display(loaded_data[:5])\n",
        "\n",
        "# Load and display a sample of the training data\n",
        "loaded_train_data = load_clean_sentences('/content/english-german-train.pkl')\n",
        "print(\"\\nSample of the training dataset:\")\n",
        "display(loaded_train_data[:5])\n",
        "\n",
        "# Load and display a sample of the test data\n",
        "loaded_test_data = load_clean_sentences('/content/english-german-test.pkl')\n",
        "print(\"\\nSample of the test dataset:\")\n",
        "display(loaded_test_data[:5])"
      ],
      "execution_count": 8,
      "outputs": [
        {
          "output_type": "stream",
          "name": "stdout",
          "text": [
            "Sample of the combined dataset:\n"
          ]
        },
        {
          "output_type": "display_data",
          "data": {
            "text/plain": [
              "array([['this is my dad', 'das hier ist mein papa',\n",
              "        'ccby france attribution tatoebaorg sethlang blundainte'],\n",
              "       ['i was joking', 'ich habe spa gemacht',\n",
              "        'ccby france attribution tatoebaorg ck wolfgangth'],\n",
              "       ['they slept', 'sie haben geschlafen',\n",
              "        'ccby france attribution tatoebaorg disconostalgia mhr'],\n",
              "       ['go to your room', 'gehe auf dein zimmer',\n",
              "        'ccby france attribution tatoebaorg ck pfirsichbaeumchen'],\n",
              "       ['come along', 'kommt mit',\n",
              "        'ccby france attribution tatoebaorg ck mikemolto']], dtype='<U72')"
            ]
          },
          "metadata": {}
        },
        {
          "output_type": "stream",
          "name": "stdout",
          "text": [
            "\n",
            "Sample of the training dataset:\n"
          ]
        },
        {
          "output_type": "display_data",
          "data": {
            "text/plain": [
              "array([['this is my dad', 'das hier ist mein papa',\n",
              "        'ccby france attribution tatoebaorg sethlang blundainte'],\n",
              "       ['i was joking', 'ich habe spa gemacht',\n",
              "        'ccby france attribution tatoebaorg ck wolfgangth'],\n",
              "       ['they slept', 'sie haben geschlafen',\n",
              "        'ccby france attribution tatoebaorg disconostalgia mhr'],\n",
              "       ['go to your room', 'gehe auf dein zimmer',\n",
              "        'ccby france attribution tatoebaorg ck pfirsichbaeumchen'],\n",
              "       ['come along', 'kommt mit',\n",
              "        'ccby france attribution tatoebaorg ck mikemolto']], dtype='<U72')"
            ]
          },
          "metadata": {}
        },
        {
          "output_type": "stream",
          "name": "stdout",
          "text": [
            "\n",
            "Sample of the test dataset:\n"
          ]
        },
        {
          "output_type": "display_data",
          "data": {
            "text/plain": [
              "array([['visit us', 'besuchen sie uns',\n",
              "        'ccby france attribution tatoebaorg marijnkp oskar'],\n",
              "       ['im eating', 'ich esse gerade',\n",
              "        'ccby france attribution tatoebaorg vortarulo'],\n",
              "       ['forget it', 'vergiss es',\n",
              "        'ccby france attribution tatoebaorg eldad fingerhut'],\n",
              "       ['im happy too', 'ich bin auch glucklich',\n",
              "        'ccby france attribution tatoebaorg ck manfredo'],\n",
              "       ['how strange', 'wie seltsam',\n",
              "        'ccby france attribution tatoebaorg ck hansadler']], dtype='<U72')"
            ]
          },
          "metadata": {}
        }
      ]
    },
    {
      "cell_type": "code",
      "source": [
        "!pip install tensorflow"
      ],
      "metadata": {
        "colab": {
          "base_uri": "https://localhost:8080/"
        },
        "id": "Ph2XkNUiDX8d",
        "outputId": "ec2cd4bd-2b17-4288-bd29-3814788e8c65"
      },
      "execution_count": 9,
      "outputs": [
        {
          "output_type": "stream",
          "name": "stdout",
          "text": [
            "Requirement already satisfied: tensorflow in /usr/local/lib/python3.12/dist-packages (2.19.0)\n",
            "Requirement already satisfied: absl-py>=1.0.0 in /usr/local/lib/python3.12/dist-packages (from tensorflow) (1.4.0)\n",
            "Requirement already satisfied: astunparse>=1.6.0 in /usr/local/lib/python3.12/dist-packages (from tensorflow) (1.6.3)\n",
            "Requirement already satisfied: flatbuffers>=24.3.25 in /usr/local/lib/python3.12/dist-packages (from tensorflow) (25.2.10)\n",
            "Requirement already satisfied: gast!=0.5.0,!=0.5.1,!=0.5.2,>=0.2.1 in /usr/local/lib/python3.12/dist-packages (from tensorflow) (0.6.0)\n",
            "Requirement already satisfied: google-pasta>=0.1.1 in /usr/local/lib/python3.12/dist-packages (from tensorflow) (0.2.0)\n",
            "Requirement already satisfied: libclang>=13.0.0 in /usr/local/lib/python3.12/dist-packages (from tensorflow) (18.1.1)\n",
            "Requirement already satisfied: opt-einsum>=2.3.2 in /usr/local/lib/python3.12/dist-packages (from tensorflow) (3.4.0)\n",
            "Requirement already satisfied: packaging in /usr/local/lib/python3.12/dist-packages (from tensorflow) (25.0)\n",
            "Requirement already satisfied: protobuf!=4.21.0,!=4.21.1,!=4.21.2,!=4.21.3,!=4.21.4,!=4.21.5,<6.0.0dev,>=3.20.3 in /usr/local/lib/python3.12/dist-packages (from tensorflow) (5.29.5)\n",
            "Requirement already satisfied: requests<3,>=2.21.0 in /usr/local/lib/python3.12/dist-packages (from tensorflow) (2.32.4)\n",
            "Requirement already satisfied: setuptools in /usr/local/lib/python3.12/dist-packages (from tensorflow) (75.2.0)\n",
            "Requirement already satisfied: six>=1.12.0 in /usr/local/lib/python3.12/dist-packages (from tensorflow) (1.17.0)\n",
            "Requirement already satisfied: termcolor>=1.1.0 in /usr/local/lib/python3.12/dist-packages (from tensorflow) (3.1.0)\n",
            "Requirement already satisfied: typing-extensions>=3.6.6 in /usr/local/lib/python3.12/dist-packages (from tensorflow) (4.15.0)\n",
            "Requirement already satisfied: wrapt>=1.11.0 in /usr/local/lib/python3.12/dist-packages (from tensorflow) (1.17.3)\n",
            "Requirement already satisfied: grpcio<2.0,>=1.24.3 in /usr/local/lib/python3.12/dist-packages (from tensorflow) (1.74.0)\n",
            "Requirement already satisfied: tensorboard~=2.19.0 in /usr/local/lib/python3.12/dist-packages (from tensorflow) (2.19.0)\n",
            "Requirement already satisfied: keras>=3.5.0 in /usr/local/lib/python3.12/dist-packages (from tensorflow) (3.10.0)\n",
            "Requirement already satisfied: numpy<2.2.0,>=1.26.0 in /usr/local/lib/python3.12/dist-packages (from tensorflow) (2.0.2)\n",
            "Requirement already satisfied: h5py>=3.11.0 in /usr/local/lib/python3.12/dist-packages (from tensorflow) (3.14.0)\n",
            "Requirement already satisfied: ml-dtypes<1.0.0,>=0.5.1 in /usr/local/lib/python3.12/dist-packages (from tensorflow) (0.5.3)\n",
            "Requirement already satisfied: wheel<1.0,>=0.23.0 in /usr/local/lib/python3.12/dist-packages (from astunparse>=1.6.0->tensorflow) (0.45.1)\n",
            "Requirement already satisfied: rich in /usr/local/lib/python3.12/dist-packages (from keras>=3.5.0->tensorflow) (13.9.4)\n",
            "Requirement already satisfied: namex in /usr/local/lib/python3.12/dist-packages (from keras>=3.5.0->tensorflow) (0.1.0)\n",
            "Requirement already satisfied: optree in /usr/local/lib/python3.12/dist-packages (from keras>=3.5.0->tensorflow) (0.17.0)\n",
            "Requirement already satisfied: charset_normalizer<4,>=2 in /usr/local/lib/python3.12/dist-packages (from requests<3,>=2.21.0->tensorflow) (3.4.3)\n",
            "Requirement already satisfied: idna<4,>=2.5 in /usr/local/lib/python3.12/dist-packages (from requests<3,>=2.21.0->tensorflow) (3.10)\n",
            "Requirement already satisfied: urllib3<3,>=1.21.1 in /usr/local/lib/python3.12/dist-packages (from requests<3,>=2.21.0->tensorflow) (2.5.0)\n",
            "Requirement already satisfied: certifi>=2017.4.17 in /usr/local/lib/python3.12/dist-packages (from requests<3,>=2.21.0->tensorflow) (2025.8.3)\n",
            "Requirement already satisfied: markdown>=2.6.8 in /usr/local/lib/python3.12/dist-packages (from tensorboard~=2.19.0->tensorflow) (3.8.2)\n",
            "Requirement already satisfied: tensorboard-data-server<0.8.0,>=0.7.0 in /usr/local/lib/python3.12/dist-packages (from tensorboard~=2.19.0->tensorflow) (0.7.2)\n",
            "Requirement already satisfied: werkzeug>=1.0.1 in /usr/local/lib/python3.12/dist-packages (from tensorboard~=2.19.0->tensorflow) (3.1.3)\n",
            "Requirement already satisfied: MarkupSafe>=2.1.1 in /usr/local/lib/python3.12/dist-packages (from werkzeug>=1.0.1->tensorboard~=2.19.0->tensorflow) (3.0.2)\n",
            "Requirement already satisfied: markdown-it-py>=2.2.0 in /usr/local/lib/python3.12/dist-packages (from rich->keras>=3.5.0->tensorflow) (4.0.0)\n",
            "Requirement already satisfied: pygments<3.0.0,>=2.13.0 in /usr/local/lib/python3.12/dist-packages (from rich->keras>=3.5.0->tensorflow) (2.19.2)\n",
            "Requirement already satisfied: mdurl~=0.1 in /usr/local/lib/python3.12/dist-packages (from markdown-it-py>=2.2.0->rich->keras>=3.5.0->tensorflow) (0.1.2)\n"
          ]
        }
      ]
    },
    {
      "cell_type": "markdown",
      "source": [
        "# import libraries"
      ],
      "metadata": {
        "id": "KR420vkjuFWa"
      }
    },
    {
      "cell_type": "code",
      "source": [
        "from pickle import load\n",
        "from numpy import array\n",
        "from tensorflow.keras.preprocessing.text import Tokenizer\n",
        "from tensorflow.keras.preprocessing.sequence import pad_sequences\n",
        "from tensorflow.keras.utils import to_categorical\n",
        "from tensorflow.keras.utils import plot_model\n",
        "from tensorflow.keras.models import Sequential\n",
        "from tensorflow.keras.layers import LSTM\n",
        "from tensorflow.keras.layers import Dense\n",
        "from tensorflow.keras.layers import Embedding\n",
        "from tensorflow.keras.layers import RepeatVector\n",
        "from tensorflow.keras.layers import TimeDistributed\n",
        "from tensorflow.keras.callbacks import ModelCheckpoint"
      ],
      "metadata": {
        "id": "uRm3knubCjCP"
      },
      "execution_count": 10,
      "outputs": []
    },
    {
      "cell_type": "markdown",
      "source": [
        "# Data Preprocessing  for Translation Model"
      ],
      "metadata": {
        "id": "1wWXmPaTuR_r"
      }
    },
    {
      "cell_type": "code",
      "source": [
        "def load_clean_sentences(filename):\n",
        "  return load(open(filename, 'rb'))\n",
        "\n",
        "def create_tokenizer(lines):\n",
        "  tokenizer=Tokenizer()\n",
        "  tokenizer.fit_on_texts(lines)\n",
        "  return tokenizer\n",
        "\n",
        "def max_length(lines):\n",
        "  return max(len(line.split()) for line in lines)\n",
        "\n",
        "def encode_sequences(tokenizer, length, lines):\n",
        "  X=tokenizer.texts_to_sequences(lines)\n",
        "  X=pad_sequences(X, maxlen=length, padding='post')\n",
        "  return X\n",
        "\n",
        "def encode_output(sequences, vocab_size):\n",
        "  ylist=[]\n",
        "  for sequence in sequences:\n",
        "    encoded=to_categorical(sequence, num_classes=vocab_size)\n",
        "    ylist.append(encoded)\n",
        "  y=array(ylist)\n",
        "  y=y.reshape(sequences.shape[0], sequences.shape[1], vocab_size)\n",
        "  return y"
      ],
      "metadata": {
        "id": "UsuSE5noEOHM"
      },
      "execution_count": 11,
      "outputs": []
    },
    {
      "cell_type": "markdown",
      "source": [],
      "metadata": {
        "id": "nHKuymB1ucfo"
      }
    },
    {
      "cell_type": "code",
      "source": [
        "def define_model(src_vocab_size, tar_vocab_size, src_timesteps, tar_timesteps, n_units):\n",
        "    model = Sequential()\n",
        "    model.add(Embedding(src_vocab_size, n_units, input_length=src_timesteps, mask_zero=True))\n",
        "    model.add(LSTM(n_units))\n",
        "    model.add(RepeatVector(tar_timesteps))\n",
        "    model.add(LSTM(n_units, return_sequences=True))\n",
        "    model.add(TimeDistributed(Dense(tar_vocab_size, activation='softmax')))\n",
        "    return model\n"
      ],
      "metadata": {
        "id": "zWXqcUf5E3en"
      },
      "execution_count": 12,
      "outputs": []
    },
    {
      "cell_type": "code",
      "source": [
        "dataset = load_clean_sentences('/content/english-german-both.pkl')\n",
        "train = load_clean_sentences('/content/english-german-train.pkl')\n",
        "test = load_clean_sentences('/content/english-german-test.pkl')\n",
        "\n",
        "eng_tokenizer = create_tokenizer(dataset[:, 0])\n",
        "eng_vocab_size = len(eng_tokenizer.word_index) + 1\n",
        "eng_length = max_length(dataset[:, 0])\n",
        "\n",
        "print('English Vocabulary Size: %d' % eng_vocab_size)\n",
        "print('English Max Length: %d' % (eng_length))\n",
        "\n",
        "ger_tokenizer = create_tokenizer(dataset[:, 1])\n",
        "ger_vocab_size = len(ger_tokenizer.word_index) + 1\n",
        "ger_length = max_length(dataset[:, 1])\n",
        "\n",
        "print('German Vocabulary Size: %d' % ger_vocab_size)\n",
        "print('German Max Length: %d' % (ger_length))\n",
        "\n",
        "trainX = encode_sequences(ger_tokenizer, ger_length, train[:, 1])\n",
        "trainY = encode_sequences(eng_tokenizer, eng_length, train[:, 0])\n",
        "trainY = encode_output(trainY, eng_vocab_size)\n",
        "\n",
        "testX = encode_sequences(ger_tokenizer, ger_length, test[:, 1])\n",
        "testY = encode_sequences(eng_tokenizer, eng_length, test[:, 0])\n",
        "testY = encode_output(testY, eng_vocab_size)"
      ],
      "metadata": {
        "colab": {
          "base_uri": "https://localhost:8080/"
        },
        "id": "syZ9EnphFdif",
        "outputId": "9f179671-99b1-47e7-f985-892fc4a97d42"
      },
      "execution_count": 13,
      "outputs": [
        {
          "output_type": "stream",
          "name": "stdout",
          "text": [
            "English Vocabulary Size: 2884\n",
            "English Max Length: 5\n",
            "German Vocabulary Size: 4625\n",
            "German Max Length: 10\n"
          ]
        }
      ]
    },
    {
      "cell_type": "markdown",
      "source": [
        "# Seq2Seq LSTM model for translation"
      ],
      "metadata": {
        "id": "jrbE_s7ru2Xw"
      }
    },
    {
      "cell_type": "code",
      "source": [
        "model=define_model(ger_vocab_size, eng_vocab_size, ger_length, eng_length, 512) # Increased units\n",
        "model.build((None, ger_length)) # Explicitly build the model\n",
        "model.compile(optimizer='adam', loss='categorical_crossentropy')\n",
        "\n",
        "print(model.summary())\n",
        "\n",
        "plot_model(model, to_file='model.png', show_shapes=True)\n",
        "\n",
        "filename = 'model.h5'\n",
        "checkpoint = ModelCheckpoint(filename, monitor='val_loss', verbose=1, save_best_only=True, mode='min')\n",
        "model.fit(trainX, trainY, epochs=50, batch_size=64, validation_split=0.2, callbacks=[checkpoint], verbose=2) # Increased epochs"
      ],
      "metadata": {
        "colab": {
          "base_uri": "https://localhost:8080/",
          "height": 1000
        },
        "id": "Q3YHnUUkGNnM",
        "outputId": "c2c82a19-2001-4224-dd3a-71358f98f7d8"
      },
      "execution_count": 14,
      "outputs": [
        {
          "output_type": "stream",
          "name": "stderr",
          "text": [
            "/usr/local/lib/python3.12/dist-packages/keras/src/layers/core/embedding.py:97: UserWarning: Argument `input_length` is deprecated. Just remove it.\n",
            "  warnings.warn(\n"
          ]
        },
        {
          "output_type": "display_data",
          "data": {
            "text/plain": [
              "\u001b[1mModel: \"sequential\"\u001b[0m\n"
            ],
            "text/html": [
              "<pre style=\"white-space:pre;overflow-x:auto;line-height:normal;font-family:Menlo,'DejaVu Sans Mono',consolas,'Courier New',monospace\"><span style=\"font-weight: bold\">Model: \"sequential\"</span>\n",
              "</pre>\n"
            ]
          },
          "metadata": {}
        },
        {
          "output_type": "display_data",
          "data": {
            "text/plain": [
              "┏━━━━━━━━━━━━━━━━━━━━━━━━━━━━━━━━━┳━━━━━━━━━━━━━━━━━━━━━━━━┳━━━━━━━━━━━━━━━┓\n",
              "┃\u001b[1m \u001b[0m\u001b[1mLayer (type)                   \u001b[0m\u001b[1m \u001b[0m┃\u001b[1m \u001b[0m\u001b[1mOutput Shape          \u001b[0m\u001b[1m \u001b[0m┃\u001b[1m \u001b[0m\u001b[1m      Param #\u001b[0m\u001b[1m \u001b[0m┃\n",
              "┡━━━━━━━━━━━━━━━━━━━━━━━━━━━━━━━━━╇━━━━━━━━━━━━━━━━━━━━━━━━╇━━━━━━━━━━━━━━━┩\n",
              "│ embedding (\u001b[38;5;33mEmbedding\u001b[0m)           │ (\u001b[38;5;45mNone\u001b[0m, \u001b[38;5;34m10\u001b[0m, \u001b[38;5;34m512\u001b[0m)        │     \u001b[38;5;34m2,368,000\u001b[0m │\n",
              "├─────────────────────────────────┼────────────────────────┼───────────────┤\n",
              "│ lstm (\u001b[38;5;33mLSTM\u001b[0m)                     │ (\u001b[38;5;45mNone\u001b[0m, \u001b[38;5;34m512\u001b[0m)            │     \u001b[38;5;34m2,099,200\u001b[0m │\n",
              "├─────────────────────────────────┼────────────────────────┼───────────────┤\n",
              "│ repeat_vector (\u001b[38;5;33mRepeatVector\u001b[0m)    │ (\u001b[38;5;45mNone\u001b[0m, \u001b[38;5;34m5\u001b[0m, \u001b[38;5;34m512\u001b[0m)         │             \u001b[38;5;34m0\u001b[0m │\n",
              "├─────────────────────────────────┼────────────────────────┼───────────────┤\n",
              "│ lstm_1 (\u001b[38;5;33mLSTM\u001b[0m)                   │ (\u001b[38;5;45mNone\u001b[0m, \u001b[38;5;34m5\u001b[0m, \u001b[38;5;34m512\u001b[0m)         │     \u001b[38;5;34m2,099,200\u001b[0m │\n",
              "├─────────────────────────────────┼────────────────────────┼───────────────┤\n",
              "│ time_distributed                │ (\u001b[38;5;45mNone\u001b[0m, \u001b[38;5;34m5\u001b[0m, \u001b[38;5;34m2884\u001b[0m)        │     \u001b[38;5;34m1,479,492\u001b[0m │\n",
              "│ (\u001b[38;5;33mTimeDistributed\u001b[0m)               │                        │               │\n",
              "└─────────────────────────────────┴────────────────────────┴───────────────┘\n"
            ],
            "text/html": [
              "<pre style=\"white-space:pre;overflow-x:auto;line-height:normal;font-family:Menlo,'DejaVu Sans Mono',consolas,'Courier New',monospace\">┏━━━━━━━━━━━━━━━━━━━━━━━━━━━━━━━━━┳━━━━━━━━━━━━━━━━━━━━━━━━┳━━━━━━━━━━━━━━━┓\n",
              "┃<span style=\"font-weight: bold\"> Layer (type)                    </span>┃<span style=\"font-weight: bold\"> Output Shape           </span>┃<span style=\"font-weight: bold\">       Param # </span>┃\n",
              "┡━━━━━━━━━━━━━━━━━━━━━━━━━━━━━━━━━╇━━━━━━━━━━━━━━━━━━━━━━━━╇━━━━━━━━━━━━━━━┩\n",
              "│ embedding (<span style=\"color: #0087ff; text-decoration-color: #0087ff\">Embedding</span>)           │ (<span style=\"color: #00d7ff; text-decoration-color: #00d7ff\">None</span>, <span style=\"color: #00af00; text-decoration-color: #00af00\">10</span>, <span style=\"color: #00af00; text-decoration-color: #00af00\">512</span>)        │     <span style=\"color: #00af00; text-decoration-color: #00af00\">2,368,000</span> │\n",
              "├─────────────────────────────────┼────────────────────────┼───────────────┤\n",
              "│ lstm (<span style=\"color: #0087ff; text-decoration-color: #0087ff\">LSTM</span>)                     │ (<span style=\"color: #00d7ff; text-decoration-color: #00d7ff\">None</span>, <span style=\"color: #00af00; text-decoration-color: #00af00\">512</span>)            │     <span style=\"color: #00af00; text-decoration-color: #00af00\">2,099,200</span> │\n",
              "├─────────────────────────────────┼────────────────────────┼───────────────┤\n",
              "│ repeat_vector (<span style=\"color: #0087ff; text-decoration-color: #0087ff\">RepeatVector</span>)    │ (<span style=\"color: #00d7ff; text-decoration-color: #00d7ff\">None</span>, <span style=\"color: #00af00; text-decoration-color: #00af00\">5</span>, <span style=\"color: #00af00; text-decoration-color: #00af00\">512</span>)         │             <span style=\"color: #00af00; text-decoration-color: #00af00\">0</span> │\n",
              "├─────────────────────────────────┼────────────────────────┼───────────────┤\n",
              "│ lstm_1 (<span style=\"color: #0087ff; text-decoration-color: #0087ff\">LSTM</span>)                   │ (<span style=\"color: #00d7ff; text-decoration-color: #00d7ff\">None</span>, <span style=\"color: #00af00; text-decoration-color: #00af00\">5</span>, <span style=\"color: #00af00; text-decoration-color: #00af00\">512</span>)         │     <span style=\"color: #00af00; text-decoration-color: #00af00\">2,099,200</span> │\n",
              "├─────────────────────────────────┼────────────────────────┼───────────────┤\n",
              "│ time_distributed                │ (<span style=\"color: #00d7ff; text-decoration-color: #00d7ff\">None</span>, <span style=\"color: #00af00; text-decoration-color: #00af00\">5</span>, <span style=\"color: #00af00; text-decoration-color: #00af00\">2884</span>)        │     <span style=\"color: #00af00; text-decoration-color: #00af00\">1,479,492</span> │\n",
              "│ (<span style=\"color: #0087ff; text-decoration-color: #0087ff\">TimeDistributed</span>)               │                        │               │\n",
              "└─────────────────────────────────┴────────────────────────┴───────────────┘\n",
              "</pre>\n"
            ]
          },
          "metadata": {}
        },
        {
          "output_type": "display_data",
          "data": {
            "text/plain": [
              "\u001b[1m Total params: \u001b[0m\u001b[38;5;34m8,045,892\u001b[0m (30.69 MB)\n"
            ],
            "text/html": [
              "<pre style=\"white-space:pre;overflow-x:auto;line-height:normal;font-family:Menlo,'DejaVu Sans Mono',consolas,'Courier New',monospace\"><span style=\"font-weight: bold\"> Total params: </span><span style=\"color: #00af00; text-decoration-color: #00af00\">8,045,892</span> (30.69 MB)\n",
              "</pre>\n"
            ]
          },
          "metadata": {}
        },
        {
          "output_type": "display_data",
          "data": {
            "text/plain": [
              "\u001b[1m Trainable params: \u001b[0m\u001b[38;5;34m8,045,892\u001b[0m (30.69 MB)\n"
            ],
            "text/html": [
              "<pre style=\"white-space:pre;overflow-x:auto;line-height:normal;font-family:Menlo,'DejaVu Sans Mono',consolas,'Courier New',monospace\"><span style=\"font-weight: bold\"> Trainable params: </span><span style=\"color: #00af00; text-decoration-color: #00af00\">8,045,892</span> (30.69 MB)\n",
              "</pre>\n"
            ]
          },
          "metadata": {}
        },
        {
          "output_type": "display_data",
          "data": {
            "text/plain": [
              "\u001b[1m Non-trainable params: \u001b[0m\u001b[38;5;34m0\u001b[0m (0.00 B)\n"
            ],
            "text/html": [
              "<pre style=\"white-space:pre;overflow-x:auto;line-height:normal;font-family:Menlo,'DejaVu Sans Mono',consolas,'Courier New',monospace\"><span style=\"font-weight: bold\"> Non-trainable params: </span><span style=\"color: #00af00; text-decoration-color: #00af00\">0</span> (0.00 B)\n",
              "</pre>\n"
            ]
          },
          "metadata": {}
        },
        {
          "output_type": "stream",
          "name": "stdout",
          "text": [
            "None\n",
            "Epoch 1/50\n",
            "\n",
            "Epoch 1: val_loss improved from inf to 3.39040, saving model to model.h5\n"
          ]
        },
        {
          "output_type": "stream",
          "name": "stderr",
          "text": [
            "WARNING:absl:You are saving your model as an HDF5 file via `model.save()` or `keras.saving.save_model(model)`. This file format is considered legacy. We recommend using instead the native Keras format, e.g. `model.save('my_model.keras')` or `keras.saving.save_model(model, 'my_model.keras')`. \n"
          ]
        },
        {
          "output_type": "stream",
          "name": "stdout",
          "text": [
            "150/150 - 10s - 67ms/step - loss: 3.9835 - val_loss: 3.3904\n",
            "Epoch 2/50\n",
            "\n",
            "Epoch 2: val_loss improved from 3.39040 to 3.18269, saving model to model.h5\n"
          ]
        },
        {
          "output_type": "stream",
          "name": "stderr",
          "text": [
            "WARNING:absl:You are saving your model as an HDF5 file via `model.save()` or `keras.saving.save_model(model)`. This file format is considered legacy. We recommend using instead the native Keras format, e.g. `model.save('my_model.keras')` or `keras.saving.save_model(model, 'my_model.keras')`. \n"
          ]
        },
        {
          "output_type": "stream",
          "name": "stdout",
          "text": [
            "150/150 - 6s - 40ms/step - loss: 3.2333 - val_loss: 3.1827\n",
            "Epoch 3/50\n",
            "\n",
            "Epoch 3: val_loss improved from 3.18269 to 2.91839, saving model to model.h5\n"
          ]
        },
        {
          "output_type": "stream",
          "name": "stderr",
          "text": [
            "WARNING:absl:You are saving your model as an HDF5 file via `model.save()` or `keras.saving.save_model(model)`. This file format is considered legacy. We recommend using instead the native Keras format, e.g. `model.save('my_model.keras')` or `keras.saving.save_model(model, 'my_model.keras')`. \n"
          ]
        },
        {
          "output_type": "stream",
          "name": "stdout",
          "text": [
            "150/150 - 5s - 31ms/step - loss: 2.9309 - val_loss: 2.9184\n",
            "Epoch 4/50\n",
            "\n",
            "Epoch 4: val_loss improved from 2.91839 to 2.69663, saving model to model.h5\n"
          ]
        },
        {
          "output_type": "stream",
          "name": "stderr",
          "text": [
            "WARNING:absl:You are saving your model as an HDF5 file via `model.save()` or `keras.saving.save_model(model)`. This file format is considered legacy. We recommend using instead the native Keras format, e.g. `model.save('my_model.keras')` or `keras.saving.save_model(model, 'my_model.keras')`. \n"
          ]
        },
        {
          "output_type": "stream",
          "name": "stdout",
          "text": [
            "150/150 - 5s - 34ms/step - loss: 2.6295 - val_loss: 2.6966\n",
            "Epoch 5/50\n",
            "\n",
            "Epoch 5: val_loss improved from 2.69663 to 2.54051, saving model to model.h5\n"
          ]
        },
        {
          "output_type": "stream",
          "name": "stderr",
          "text": [
            "WARNING:absl:You are saving your model as an HDF5 file via `model.save()` or `keras.saving.save_model(model)`. This file format is considered legacy. We recommend using instead the native Keras format, e.g. `model.save('my_model.keras')` or `keras.saving.save_model(model, 'my_model.keras')`. \n"
          ]
        },
        {
          "output_type": "stream",
          "name": "stdout",
          "text": [
            "150/150 - 2s - 17ms/step - loss: 2.3594 - val_loss: 2.5405\n",
            "Epoch 6/50\n",
            "\n",
            "Epoch 6: val_loss improved from 2.54051 to 2.40698, saving model to model.h5\n"
          ]
        },
        {
          "output_type": "stream",
          "name": "stderr",
          "text": [
            "WARNING:absl:You are saving your model as an HDF5 file via `model.save()` or `keras.saving.save_model(model)`. This file format is considered legacy. We recommend using instead the native Keras format, e.g. `model.save('my_model.keras')` or `keras.saving.save_model(model, 'my_model.keras')`. \n"
          ]
        },
        {
          "output_type": "stream",
          "name": "stdout",
          "text": [
            "150/150 - 3s - 18ms/step - loss: 2.1076 - val_loss: 2.4070\n",
            "Epoch 7/50\n",
            "\n",
            "Epoch 7: val_loss improved from 2.40698 to 2.29405, saving model to model.h5\n"
          ]
        },
        {
          "output_type": "stream",
          "name": "stderr",
          "text": [
            "WARNING:absl:You are saving your model as an HDF5 file via `model.save()` or `keras.saving.save_model(model)`. This file format is considered legacy. We recommend using instead the native Keras format, e.g. `model.save('my_model.keras')` or `keras.saving.save_model(model, 'my_model.keras')`. \n"
          ]
        },
        {
          "output_type": "stream",
          "name": "stdout",
          "text": [
            "150/150 - 5s - 36ms/step - loss: 1.8898 - val_loss: 2.2941\n",
            "Epoch 8/50\n",
            "\n",
            "Epoch 8: val_loss improved from 2.29405 to 2.19502, saving model to model.h5\n"
          ]
        },
        {
          "output_type": "stream",
          "name": "stderr",
          "text": [
            "WARNING:absl:You are saving your model as an HDF5 file via `model.save()` or `keras.saving.save_model(model)`. This file format is considered legacy. We recommend using instead the native Keras format, e.g. `model.save('my_model.keras')` or `keras.saving.save_model(model, 'my_model.keras')`. \n"
          ]
        },
        {
          "output_type": "stream",
          "name": "stdout",
          "text": [
            "150/150 - 5s - 33ms/step - loss: 1.6830 - val_loss: 2.1950\n",
            "Epoch 9/50\n",
            "\n",
            "Epoch 9: val_loss improved from 2.19502 to 2.13637, saving model to model.h5\n"
          ]
        },
        {
          "output_type": "stream",
          "name": "stderr",
          "text": [
            "WARNING:absl:You are saving your model as an HDF5 file via `model.save()` or `keras.saving.save_model(model)`. This file format is considered legacy. We recommend using instead the native Keras format, e.g. `model.save('my_model.keras')` or `keras.saving.save_model(model, 'my_model.keras')`. \n"
          ]
        },
        {
          "output_type": "stream",
          "name": "stdout",
          "text": [
            "150/150 - 3s - 17ms/step - loss: 1.4936 - val_loss: 2.1364\n",
            "Epoch 10/50\n",
            "\n",
            "Epoch 10: val_loss improved from 2.13637 to 2.06923, saving model to model.h5\n"
          ]
        },
        {
          "output_type": "stream",
          "name": "stderr",
          "text": [
            "WARNING:absl:You are saving your model as an HDF5 file via `model.save()` or `keras.saving.save_model(model)`. This file format is considered legacy. We recommend using instead the native Keras format, e.g. `model.save('my_model.keras')` or `keras.saving.save_model(model, 'my_model.keras')`. \n"
          ]
        },
        {
          "output_type": "stream",
          "name": "stdout",
          "text": [
            "150/150 - 3s - 17ms/step - loss: 1.3174 - val_loss: 2.0692\n",
            "Epoch 11/50\n",
            "\n",
            "Epoch 11: val_loss improved from 2.06923 to 2.01600, saving model to model.h5\n"
          ]
        },
        {
          "output_type": "stream",
          "name": "stderr",
          "text": [
            "WARNING:absl:You are saving your model as an HDF5 file via `model.save()` or `keras.saving.save_model(model)`. This file format is considered legacy. We recommend using instead the native Keras format, e.g. `model.save('my_model.keras')` or `keras.saving.save_model(model, 'my_model.keras')`. \n"
          ]
        },
        {
          "output_type": "stream",
          "name": "stdout",
          "text": [
            "150/150 - 3s - 19ms/step - loss: 1.1495 - val_loss: 2.0160\n",
            "Epoch 12/50\n",
            "\n",
            "Epoch 12: val_loss improved from 2.01600 to 1.98166, saving model to model.h5\n"
          ]
        },
        {
          "output_type": "stream",
          "name": "stderr",
          "text": [
            "WARNING:absl:You are saving your model as an HDF5 file via `model.save()` or `keras.saving.save_model(model)`. This file format is considered legacy. We recommend using instead the native Keras format, e.g. `model.save('my_model.keras')` or `keras.saving.save_model(model, 'my_model.keras')`. \n"
          ]
        },
        {
          "output_type": "stream",
          "name": "stdout",
          "text": [
            "150/150 - 5s - 33ms/step - loss: 0.9923 - val_loss: 1.9817\n",
            "Epoch 13/50\n",
            "\n",
            "Epoch 13: val_loss improved from 1.98166 to 1.93748, saving model to model.h5\n"
          ]
        },
        {
          "output_type": "stream",
          "name": "stderr",
          "text": [
            "WARNING:absl:You are saving your model as an HDF5 file via `model.save()` or `keras.saving.save_model(model)`. This file format is considered legacy. We recommend using instead the native Keras format, e.g. `model.save('my_model.keras')` or `keras.saving.save_model(model, 'my_model.keras')`. \n"
          ]
        },
        {
          "output_type": "stream",
          "name": "stdout",
          "text": [
            "150/150 - 5s - 34ms/step - loss: 0.8491 - val_loss: 1.9375\n",
            "Epoch 14/50\n",
            "\n",
            "Epoch 14: val_loss improved from 1.93748 to 1.91094, saving model to model.h5\n"
          ]
        },
        {
          "output_type": "stream",
          "name": "stderr",
          "text": [
            "WARNING:absl:You are saving your model as an HDF5 file via `model.save()` or `keras.saving.save_model(model)`. This file format is considered legacy. We recommend using instead the native Keras format, e.g. `model.save('my_model.keras')` or `keras.saving.save_model(model, 'my_model.keras')`. \n"
          ]
        },
        {
          "output_type": "stream",
          "name": "stdout",
          "text": [
            "150/150 - 5s - 33ms/step - loss: 0.7237 - val_loss: 1.9109\n",
            "Epoch 15/50\n",
            "\n",
            "Epoch 15: val_loss improved from 1.91094 to 1.88856, saving model to model.h5\n"
          ]
        },
        {
          "output_type": "stream",
          "name": "stderr",
          "text": [
            "WARNING:absl:You are saving your model as an HDF5 file via `model.save()` or `keras.saving.save_model(model)`. This file format is considered legacy. We recommend using instead the native Keras format, e.g. `model.save('my_model.keras')` or `keras.saving.save_model(model, 'my_model.keras')`. \n"
          ]
        },
        {
          "output_type": "stream",
          "name": "stdout",
          "text": [
            "150/150 - 5s - 34ms/step - loss: 0.6111 - val_loss: 1.8886\n",
            "Epoch 16/50\n",
            "\n",
            "Epoch 16: val_loss improved from 1.88856 to 1.86727, saving model to model.h5\n"
          ]
        },
        {
          "output_type": "stream",
          "name": "stderr",
          "text": [
            "WARNING:absl:You are saving your model as an HDF5 file via `model.save()` or `keras.saving.save_model(model)`. This file format is considered legacy. We recommend using instead the native Keras format, e.g. `model.save('my_model.keras')` or `keras.saving.save_model(model, 'my_model.keras')`. \n"
          ]
        },
        {
          "output_type": "stream",
          "name": "stdout",
          "text": [
            "150/150 - 5s - 35ms/step - loss: 0.5114 - val_loss: 1.8673\n",
            "Epoch 17/50\n",
            "\n",
            "Epoch 17: val_loss improved from 1.86727 to 1.85831, saving model to model.h5\n"
          ]
        },
        {
          "output_type": "stream",
          "name": "stderr",
          "text": [
            "WARNING:absl:You are saving your model as an HDF5 file via `model.save()` or `keras.saving.save_model(model)`. This file format is considered legacy. We recommend using instead the native Keras format, e.g. `model.save('my_model.keras')` or `keras.saving.save_model(model, 'my_model.keras')`. \n"
          ]
        },
        {
          "output_type": "stream",
          "name": "stdout",
          "text": [
            "150/150 - 5s - 33ms/step - loss: 0.4299 - val_loss: 1.8583\n",
            "Epoch 18/50\n",
            "\n",
            "Epoch 18: val_loss did not improve from 1.85831\n",
            "150/150 - 5s - 34ms/step - loss: 0.3649 - val_loss: 1.8592\n",
            "Epoch 19/50\n",
            "\n",
            "Epoch 19: val_loss improved from 1.85831 to 1.85231, saving model to model.h5\n"
          ]
        },
        {
          "output_type": "stream",
          "name": "stderr",
          "text": [
            "WARNING:absl:You are saving your model as an HDF5 file via `model.save()` or `keras.saving.save_model(model)`. This file format is considered legacy. We recommend using instead the native Keras format, e.g. `model.save('my_model.keras')` or `keras.saving.save_model(model, 'my_model.keras')`. \n"
          ]
        },
        {
          "output_type": "stream",
          "name": "stdout",
          "text": [
            "150/150 - 5s - 34ms/step - loss: 0.3093 - val_loss: 1.8523\n",
            "Epoch 20/50\n",
            "\n",
            "Epoch 20: val_loss did not improve from 1.85231\n",
            "150/150 - 6s - 38ms/step - loss: 0.2633 - val_loss: 1.8582\n",
            "Epoch 21/50\n",
            "\n",
            "Epoch 21: val_loss did not improve from 1.85231\n",
            "150/150 - 5s - 31ms/step - loss: 0.2262 - val_loss: 1.8764\n",
            "Epoch 22/50\n",
            "\n",
            "Epoch 22: val_loss did not improve from 1.85231\n",
            "150/150 - 3s - 18ms/step - loss: 0.1987 - val_loss: 1.8683\n",
            "Epoch 23/50\n",
            "\n",
            "Epoch 23: val_loss did not improve from 1.85231\n",
            "150/150 - 5s - 34ms/step - loss: 0.1750 - val_loss: 1.8846\n",
            "Epoch 24/50\n",
            "\n",
            "Epoch 24: val_loss did not improve from 1.85231\n",
            "150/150 - 5s - 32ms/step - loss: 0.1591 - val_loss: 1.8879\n",
            "Epoch 25/50\n",
            "\n",
            "Epoch 25: val_loss did not improve from 1.85231\n",
            "150/150 - 2s - 16ms/step - loss: 0.1447 - val_loss: 1.8983\n",
            "Epoch 26/50\n",
            "\n",
            "Epoch 26: val_loss did not improve from 1.85231\n",
            "150/150 - 3s - 17ms/step - loss: 0.1347 - val_loss: 1.9106\n",
            "Epoch 27/50\n",
            "\n",
            "Epoch 27: val_loss did not improve from 1.85231\n",
            "150/150 - 3s - 18ms/step - loss: 0.1261 - val_loss: 1.9204\n",
            "Epoch 28/50\n",
            "\n",
            "Epoch 28: val_loss did not improve from 1.85231\n",
            "150/150 - 5s - 32ms/step - loss: 0.1204 - val_loss: 1.9246\n",
            "Epoch 29/50\n",
            "\n",
            "Epoch 29: val_loss did not improve from 1.85231\n",
            "150/150 - 2s - 16ms/step - loss: 0.1143 - val_loss: 1.9469\n",
            "Epoch 30/50\n",
            "\n",
            "Epoch 30: val_loss did not improve from 1.85231\n",
            "150/150 - 3s - 18ms/step - loss: 0.1112 - val_loss: 1.9507\n",
            "Epoch 31/50\n",
            "\n",
            "Epoch 31: val_loss did not improve from 1.85231\n",
            "150/150 - 3s - 18ms/step - loss: 0.1083 - val_loss: 1.9529\n",
            "Epoch 32/50\n",
            "\n",
            "Epoch 32: val_loss did not improve from 1.85231\n",
            "150/150 - 2s - 16ms/step - loss: 0.1064 - val_loss: 1.9535\n",
            "Epoch 33/50\n",
            "\n",
            "Epoch 33: val_loss did not improve from 1.85231\n",
            "150/150 - 3s - 17ms/step - loss: 0.1039 - val_loss: 1.9703\n",
            "Epoch 34/50\n",
            "\n",
            "Epoch 34: val_loss did not improve from 1.85231\n",
            "150/150 - 2s - 16ms/step - loss: 0.0992 - val_loss: 1.9709\n",
            "Epoch 35/50\n",
            "\n",
            "Epoch 35: val_loss did not improve from 1.85231\n",
            "150/150 - 2s - 16ms/step - loss: 0.0989 - val_loss: 1.9701\n",
            "Epoch 36/50\n",
            "\n",
            "Epoch 36: val_loss did not improve from 1.85231\n",
            "150/150 - 3s - 17ms/step - loss: 0.0961 - val_loss: 1.9768\n",
            "Epoch 37/50\n",
            "\n",
            "Epoch 37: val_loss did not improve from 1.85231\n",
            "150/150 - 5s - 32ms/step - loss: 0.0952 - val_loss: 1.9843\n",
            "Epoch 38/50\n",
            "\n",
            "Epoch 38: val_loss did not improve from 1.85231\n",
            "150/150 - 3s - 17ms/step - loss: 0.0935 - val_loss: 2.0026\n",
            "Epoch 39/50\n",
            "\n",
            "Epoch 39: val_loss did not improve from 1.85231\n",
            "150/150 - 3s - 19ms/step - loss: 0.0940 - val_loss: 2.0012\n",
            "Epoch 40/50\n",
            "\n",
            "Epoch 40: val_loss did not improve from 1.85231\n",
            "150/150 - 3s - 17ms/step - loss: 0.0940 - val_loss: 2.0081\n",
            "Epoch 41/50\n",
            "\n",
            "Epoch 41: val_loss did not improve from 1.85231\n",
            "150/150 - 3s - 19ms/step - loss: 0.0908 - val_loss: 2.0153\n",
            "Epoch 42/50\n",
            "\n",
            "Epoch 42: val_loss did not improve from 1.85231\n",
            "150/150 - 2s - 15ms/step - loss: 0.0915 - val_loss: 2.0225\n",
            "Epoch 43/50\n",
            "\n",
            "Epoch 43: val_loss did not improve from 1.85231\n",
            "150/150 - 2s - 15ms/step - loss: 0.0921 - val_loss: 2.0264\n",
            "Epoch 44/50\n",
            "\n",
            "Epoch 44: val_loss did not improve from 1.85231\n",
            "150/150 - 3s - 17ms/step - loss: 0.0921 - val_loss: 2.0392\n",
            "Epoch 45/50\n",
            "\n",
            "Epoch 45: val_loss did not improve from 1.85231\n",
            "150/150 - 2s - 17ms/step - loss: 0.0902 - val_loss: 2.0535\n",
            "Epoch 46/50\n",
            "\n",
            "Epoch 46: val_loss did not improve from 1.85231\n",
            "150/150 - 2s - 16ms/step - loss: 0.0878 - val_loss: 2.0386\n",
            "Epoch 47/50\n",
            "\n",
            "Epoch 47: val_loss did not improve from 1.85231\n",
            "150/150 - 2s - 16ms/step - loss: 0.0867 - val_loss: 2.0593\n",
            "Epoch 48/50\n",
            "\n",
            "Epoch 48: val_loss did not improve from 1.85231\n",
            "150/150 - 2s - 16ms/step - loss: 0.0857 - val_loss: 2.0558\n",
            "Epoch 49/50\n",
            "\n",
            "Epoch 49: val_loss did not improve from 1.85231\n",
            "150/150 - 3s - 22ms/step - loss: 0.0863 - val_loss: 2.0593\n",
            "Epoch 50/50\n",
            "\n",
            "Epoch 50: val_loss did not improve from 1.85231\n",
            "150/150 - 3s - 17ms/step - loss: 0.0846 - val_loss: 2.0573\n"
          ]
        },
        {
          "output_type": "execute_result",
          "data": {
            "text/plain": [
              "<keras.src.callbacks.history.History at 0x780b548542f0>"
            ]
          },
          "metadata": {},
          "execution_count": 14
        }
      ]
    },
    {
      "cell_type": "code",
      "source": [
        "from pickle import load\n",
        "from numpy import array\n",
        "from numpy import argmax\n",
        "from tensorflow.keras.preprocessing.text import Tokenizer\n",
        "from tensorflow.keras.preprocessing.sequence import pad_sequences\n",
        "from tensorflow.keras.models import load_model\n",
        "from nltk.translate.bleu_score import corpus_bleu\n"
      ],
      "metadata": {
        "id": "eftLx59XIRHY"
      },
      "execution_count": 15,
      "outputs": []
    },
    {
      "cell_type": "code",
      "source": [
        "def load_clean_sentences(filename):\n",
        "  return load(open(filename, 'rb'))\n",
        "\n",
        "def create_tokenizer(lines):\n",
        "  tokenizer=Tokenizer()\n",
        "  tokenizer.fit_on_texts(lines)\n",
        "  return tokenizer\n",
        "\n",
        "def encode_sequences(tokenizer,length, lines):\n",
        "  X=tokenizer.texts_to_sequences(lines)\n",
        "  X=pad_sequences(X, maxlen=length, padding='post')\n",
        "  return X\n",
        "\n",
        "def word_for_id(integer, tokenizer):\n",
        "  for word, index in tokenizer.word_index.items():\n",
        "    if index == integer:\n",
        "      return word\n",
        "  return None\n",
        "\n",
        "def predict_sequence(model, tokenizer, source):\n",
        "  prediction=model.predict(source, verbose=0)[0]\n",
        "  integers=[argmax(vector) for vector in prediction]\n",
        "  target = list()\n",
        "  for i in integers:\n",
        "    word = word_for_id(i, tokenizer)\n",
        "    if word is None:\n",
        "      break\n",
        "    target.append(word)\n",
        "  return ' '.join(target)\n",
        "\n",
        "def evaluate_model(model, tokenizer, sources, raw_dataset):\n",
        "  actual, predicted = list(), list()\n",
        "  for i, source in enumerate(sources):\n",
        "    source = source.reshape((1, source.shape[0]))\n",
        "    translation = predict_sequence(model, eng_tokenizer, source)\n",
        "    raw_target, raw_src, _ = raw_dataset[i] # Modified to unpack three values and ignore the third\n",
        "    if i < 10:\n",
        "      print('src=[%s], target=[%s], predicted=[%s]' % (raw_src, raw_target, translation))\n",
        "    actual.append([raw_target.split()])\n",
        "    predicted.append(translation.split())\n",
        "  print('BLEU-1: %f' % corpus_bleu(actual, predicted, weights=(1.0, 0, 0, 0)))\n",
        "  print('BLEU-2: %f' % corpus_bleu(actual, predicted, weights=(0.5, 0.5, 0, 0)))\n",
        "  print('BLEU-3: %f' % corpus_bleu(actual, predicted, weights=(0.3, 0.3, 0.3, 0)))\n",
        "  print('BLEU-4: %f' % corpus_bleu(actual, predicted, weights=(0.25, 0.25, 0.25, 0.25)))"
      ],
      "metadata": {
        "id": "Dgijqpd0IZ4F"
      },
      "execution_count": 16,
      "outputs": []
    },
    {
      "cell_type": "code",
      "source": [
        "dataset = load_clean_sentences('/content/english-german-both.pkl')\n",
        "train = load_clean_sentences('/content/english-german-train.pkl')\n",
        "test = load_clean_sentences('/content/english-german-test.pkl')\n",
        "\n",
        "eng_tokenizer = create_tokenizer(dataset[:, 0])\n",
        "eng_vocab_size = len(eng_tokenizer.word_index) + 1\n",
        "eng_length = max_length(dataset[:, 0])\n",
        "\n",
        "ger_tokenizer = create_tokenizer(dataset[:, 1])\n",
        "ger_vocab_size = len(ger_tokenizer.word_index) + 1\n",
        "ger_length = max_length(dataset[:, 1])\n",
        "\n",
        "trainX = encode_sequences(ger_tokenizer, ger_length, train[:, 1])\n",
        "testX = encode_sequences(ger_tokenizer, ger_length, test[:, 1])\n",
        "\n",
        "model = load_model('/content/model.h5')\n"
      ],
      "metadata": {
        "colab": {
          "base_uri": "https://localhost:8080/"
        },
        "id": "6FxajoxmJhKt",
        "outputId": "e43255db-4d94-4b98-f08f-1d63b7c83f3a"
      },
      "execution_count": 17,
      "outputs": [
        {
          "output_type": "stream",
          "name": "stderr",
          "text": [
            "WARNING:absl:Compiled the loaded model, but the compiled metrics have yet to be built. `model.compile_metrics` will be empty until you train or evaluate the model.\n"
          ]
        }
      ]
    },
    {
      "cell_type": "code",
      "source": [],
      "metadata": {
        "id": "fJWYX1NwwGr8"
      },
      "execution_count": null,
      "outputs": []
    }
  ]
}